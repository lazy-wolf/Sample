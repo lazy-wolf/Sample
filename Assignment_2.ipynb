{
  "nbformat": 4,
  "nbformat_minor": 0,
  "metadata": {
    "colab": {
      "provenance": [],
      "authorship_tag": "ABX9TyNTWB+2oCVlyD2h462Q3/Zn",
      "include_colab_link": true
    },
    "kernelspec": {
      "name": "python3",
      "display_name": "Python 3"
    },
    "language_info": {
      "name": "python"
    }
  },
  "cells": [
    {
      "cell_type": "markdown",
      "metadata": {
        "id": "view-in-github",
        "colab_type": "text"
      },
      "source": [
        "<a href=\"https://colab.research.google.com/github/lazy-wolf/Sample/blob/main/Assignment_2.ipynb\" target=\"_parent\"><img src=\"https://colab.research.google.com/assets/colab-badge.svg\" alt=\"Open In Colab\"/></a>"
      ]
    },
    {
      "cell_type": "code",
      "execution_count": 1,
      "metadata": {
        "id": "975SIQ6ceaXC"
      },
      "outputs": [],
      "source": [
        "import tensorflow as tf\n",
        "from tensorflow.keras.datasets import mnist\n",
        "from tensorflow.keras.preprocessing import image\n",
        "import numpy as np\n",
        "import os\n",
        "from PIL import Image, ImageFilter\n",
        "import matplotlib.pyplot as plt\n",
        "from tensorflow.keras import datasets, layers, models\n",
        "from google.colab import drive\n",
        "from sklearn.metrics import accuracy_score"
      ]
    },
    {
      "cell_type": "code",
      "source": [
        "drive.mount('/content/drive', force_remount=True)"
      ],
      "metadata": {
        "id": "w9IdQaFBehf-",
        "outputId": "041612e5-590e-4a2e-ed6b-a249ebb5207a",
        "colab": {
          "base_uri": "https://localhost:8080/"
        }
      },
      "execution_count": 2,
      "outputs": [
        {
          "output_type": "stream",
          "name": "stdout",
          "text": [
            "Mounted at /content/drive\n"
          ]
        }
      ]
    },
    {
      "cell_type": "code",
      "source": [
        "import tensorflow as tf\n",
        "import tensorflow_hub as hub\n",
        "\n",
        "m = tf.keras.Sequential([\n",
        "    hub.KerasLayer(\"https://www.kaggle.com/models/google/mobilenet-v2/frameworks/TensorFlow2/variations/035-128-classification/versions/2\")\n",
        "])\n",
        "m.build([None, 128, 128, 3])\n"
      ],
      "metadata": {
        "id": "1W4o6GhOekl9"
      },
      "execution_count": 3,
      "outputs": []
    },
    {
      "cell_type": "code",
      "source": [
        "m.dtype"
      ],
      "metadata": {
        "id": "ZMQT7p_lekos",
        "outputId": "24eb06f5-3f3b-4440-8ce6-8f239f928625",
        "colab": {
          "base_uri": "https://localhost:8080/",
          "height": 36
        }
      },
      "execution_count": 5,
      "outputs": [
        {
          "output_type": "execute_result",
          "data": {
            "text/plain": [
              "'float32'"
            ],
            "application/vnd.google.colaboratory.intrinsic+json": {
              "type": "string"
            }
          },
          "metadata": {},
          "execution_count": 5
        }
      ]
    },
    {
      "cell_type": "code",
      "source": [
        "hub.KerasLayer(\"https://www.kaggle.com/models/google/mobilenet-v2/frameworks/TensorFlow2/variations/035-128-classification/versions/2\")"
      ],
      "metadata": {
        "id": "SbXFQS33ekra",
        "outputId": "0f4eef6d-d2ca-469a-bcbd-500663d61cb6",
        "colab": {
          "base_uri": "https://localhost:8080/"
        }
      },
      "execution_count": 6,
      "outputs": [
        {
          "output_type": "execute_result",
          "data": {
            "text/plain": [
              "<tensorflow_hub.keras_layer.KerasLayer at 0x789b5a0658d0>"
            ]
          },
          "metadata": {},
          "execution_count": 6
        }
      ]
    },
    {
      "cell_type": "code",
      "source": [
        "import tensorflow as tf\n",
        "import tensorflow_hub as hub"
      ],
      "metadata": {
        "id": "s2QH_8BYekuI"
      },
      "execution_count": 7,
      "outputs": []
    },
    {
      "cell_type": "code",
      "source": [
        "model = tf.keras.Sequential([\n",
        "    hub.KerasLayer(\"https://www.kaggle.com/models/google/mobilenet-v2/frameworks/TensorFlow2/variations/035-128-classification/versions/2\"),\n",
        "    tf.keras.layers.Dense(units=OUTPUT_SHAPE,\n",
        "                          activation=\"softmax\")\n",
        "])"
      ],
      "metadata": {
        "id": "lLViHZz3ekxC"
      },
      "execution_count": null,
      "outputs": []
    },
    {
      "cell_type": "code",
      "source": [
        "mnist = tf.keras.datasets.mnist\n",
        "(x_train,y_train),(x_test,y_test)=mnist.load_data()\n",
        "\n",
        "x_train = x_train/255.0\n",
        "x_test = x_test/255.0"
      ],
      "metadata": {
        "id": "SzOV4kWFekzw",
        "outputId": "72be0cd4-4099-48a4-a929-c46ff93d7c3d",
        "colab": {
          "base_uri": "https://localhost:8080/"
        }
      },
      "execution_count": 8,
      "outputs": [
        {
          "output_type": "stream",
          "name": "stdout",
          "text": [
            "Downloading data from https://storage.googleapis.com/tensorflow/tf-keras-datasets/mnist.npz\n",
            "11490434/11490434 [==============================] - 0s 0us/step\n"
          ]
        }
      ]
    },
    {
      "cell_type": "code",
      "source": [
        "x_train[0].dtype"
      ],
      "metadata": {
        "id": "YUie-l_gppSg",
        "outputId": "26bb50f5-260f-4031-9db5-754b52c8dd2c",
        "colab": {
          "base_uri": "https://localhost:8080/"
        }
      },
      "execution_count": 29,
      "outputs": [
        {
          "output_type": "execute_result",
          "data": {
            "text/plain": [
              "dtype('float64')"
            ]
          },
          "metadata": {},
          "execution_count": 29
        }
      ]
    },
    {
      "cell_type": "code",
      "source": [
        "len(x_train)"
      ],
      "metadata": {
        "id": "BzgsRvwllTn2",
        "outputId": "da5c3d24-e6aa-4398-ba19-c6f190c5230b",
        "colab": {
          "base_uri": "https://localhost:8080/"
        }
      },
      "execution_count": 20,
      "outputs": [
        {
          "output_type": "execute_result",
          "data": {
            "text/plain": [
              "60000"
            ]
          },
          "metadata": {},
          "execution_count": 20
        }
      ]
    },
    {
      "cell_type": "code",
      "source": [
        "y_test"
      ],
      "metadata": {
        "id": "J-yhW4Fmek2b",
        "outputId": "5aa92ceb-38e7-443d-a5a3-b42420f20831",
        "colab": {
          "base_uri": "https://localhost:8080/"
        }
      },
      "execution_count": 9,
      "outputs": [
        {
          "output_type": "execute_result",
          "data": {
            "text/plain": [
              "array([7, 2, 1, ..., 4, 5, 6], dtype=uint8)"
            ]
          },
          "metadata": {},
          "execution_count": 9
        }
      ]
    },
    {
      "cell_type": "code",
      "source": [
        "x_train[0].shape"
      ],
      "metadata": {
        "id": "UIM2ykjrj_ZZ",
        "outputId": "ee056843-9ae7-44a2-b8a0-6ef7864d7d23",
        "colab": {
          "base_uri": "https://localhost:8080/"
        }
      },
      "execution_count": 14,
      "outputs": [
        {
          "output_type": "execute_result",
          "data": {
            "text/plain": [
              "(28, 28)"
            ]
          },
          "metadata": {},
          "execution_count": 14
        }
      ]
    },
    {
      "cell_type": "code",
      "source": [
        "help(model.build)"
      ],
      "metadata": {
        "id": "XKLPevU6lmC7",
        "outputId": "e05f9fc2-e901-4a2d-dfb1-6e30b907af68",
        "colab": {
          "base_uri": "https://localhost:8080/"
        }
      },
      "execution_count": 23,
      "outputs": [
        {
          "output_type": "stream",
          "name": "stdout",
          "text": [
            "Help on method build in module keras.src.engine.sequential:\n",
            "\n",
            "build(input_shape=None) method of keras.src.engine.sequential.Sequential instance\n",
            "    Builds the model based on input shapes received.\n",
            "    \n",
            "    This is to be used for subclassed models, which do not know at\n",
            "    instantiation time what their inputs look like.\n",
            "    \n",
            "    This method only exists for users who want to call `model.build()` in a\n",
            "    standalone way (as a substitute for calling the model on real data to\n",
            "    build it). It will never be called by the framework (and thus it will\n",
            "    never throw unexpected errors in an unrelated workflow).\n",
            "    \n",
            "    Args:\n",
            "     input_shape: Single tuple, `TensorShape` instance, or list/dict of\n",
            "       shapes, where shapes are tuples, integers, or `TensorShape`\n",
            "       instances.\n",
            "    \n",
            "    Raises:\n",
            "      ValueError:\n",
            "        1. In case of invalid user-provided data (not of type tuple,\n",
            "           list, `TensorShape`, or dict).\n",
            "        2. If the model requires call arguments that are agnostic\n",
            "           to the input shapes (positional or keyword arg in call\n",
            "           signature).\n",
            "        3. If not all layers were properly built.\n",
            "        4. If float type inputs are not supported within the layers.\n",
            "    \n",
            "      In each of these cases, the user should build their model by calling\n",
            "      it on real tensor data.\n",
            "\n"
          ]
        }
      ]
    },
    {
      "cell_type": "code",
      "source": [],
      "metadata": {
        "id": "7pZxmP7kmv_6"
      },
      "execution_count": null,
      "outputs": []
    },
    {
      "cell_type": "code",
      "source": [
        "model = tf.keras.Sequential([\n",
        "    hub.KerasLayer(\"https://www.kaggle.com/models/google/mobilenet-v2/frameworks/TensorFlow2/variations/035-128-classification/versions/2\"), # Layer 1 (input layer), TensorFlow Hub layer, requires Kaggle internet setting turned on\n",
        "\n",
        "  # Layer 1 (input layer), TensorFlow Hub layer, requires Kaggle internet setting turned on\n",
        "    tf.keras.layers.Dense(units=1001,\n",
        "                          activation=\"relu\"),\n",
        "    # Layer 2 (dense layer)\n",
        "    tf.keras.layers.Dense(units=64,\n",
        "                          activation=\"relu\"),\n",
        "    # Layer 3 (output layer)\n",
        "    tf.keras.layers.Dense(units=10,\n",
        "                          activation=\"softmax\") # Layer 2 (output layer)\n",
        "])\n",
        "\n",
        "# Compile the model\n",
        "model.compile(\n",
        "    loss=tf.keras.losses.CategoricalCrossentropy(), # Our model wants to reduce this (how wrong its guesses are)\n",
        "    optimizer=tf.keras.optimizers.Adam(), # A friend telling our model how to improve its guesses\n",
        "    metrics=[\"accuracy\"] # We'd like this to go up\n",
        ")\n",
        "\n",
        "# Build the model\n",
        "model.build([None, 128, 128, 3])"
      ],
      "metadata": {
        "id": "Nl72TFKjjpsf"
      },
      "execution_count": 52,
      "outputs": []
    },
    {
      "cell_type": "code",
      "source": [
        "model.summary()"
      ],
      "metadata": {
        "id": "nN75x5X9tBPJ",
        "outputId": "20ece256-b540-486b-81cf-64e355d871e8",
        "colab": {
          "base_uri": "https://localhost:8080/"
        }
      },
      "execution_count": 53,
      "outputs": [
        {
          "output_type": "stream",
          "name": "stdout",
          "text": [
            "Model: \"sequential_29\"\n",
            "_________________________________________________________________\n",
            " Layer (type)                Output Shape              Param #   \n",
            "=================================================================\n",
            " keras_layer_30 (KerasLayer  (None, 1001)              1692489   \n",
            " )                                                               \n",
            "                                                                 \n",
            " dense_23 (Dense)            (None, 1001)              1003002   \n",
            "                                                                 \n",
            " dense_24 (Dense)            (None, 64)                64128     \n",
            "                                                                 \n",
            " dense_25 (Dense)            (None, 10)                650       \n",
            "                                                                 \n",
            "=================================================================\n",
            "Total params: 2760269 (10.53 MB)\n",
            "Trainable params: 1067780 (4.07 MB)\n",
            "Non-trainable params: 1692489 (6.46 MB)\n",
            "_________________________________________________________________\n"
          ]
        }
      ]
    },
    {
      "cell_type": "code",
      "source": [
        "import tensorflow as tf\n",
        "import tensorflow_hub as hub\n",
        "\n",
        "m = tf.keras.Sequential([\n",
        "    hub.KerasLayer(\"https://www.kaggle.com/models/google/mobilenet-v2/frameworks/TensorFlow2/variations/035-128-classification/versions/2\")\n",
        "])\n",
        "m.build([None, 128, 128, 3])"
      ],
      "metadata": {
        "id": "5ZpmMsn5jpvR"
      },
      "execution_count": 45,
      "outputs": []
    },
    {
      "cell_type": "code",
      "source": [
        "m.summary()"
      ],
      "metadata": {
        "id": "bnPQ4Xgrjpz7",
        "outputId": "aa49afd3-acce-4e43-d4b8-d25a9ce3ccfd",
        "colab": {
          "base_uri": "https://localhost:8080/"
        }
      },
      "execution_count": 46,
      "outputs": [
        {
          "output_type": "stream",
          "name": "stdout",
          "text": [
            "Model: \"sequential_26\"\n",
            "_________________________________________________________________\n",
            " Layer (type)                Output Shape              Param #   \n",
            "=================================================================\n",
            " keras_layer_27 (KerasLayer  (None, 1001)              1692489   \n",
            " )                                                               \n",
            "                                                                 \n",
            "=================================================================\n",
            "Total params: 1692489 (6.46 MB)\n",
            "Trainable params: 0 (0.00 Byte)\n",
            "Non-trainable params: 1692489 (6.46 MB)\n",
            "_________________________________________________________________\n"
          ]
        }
      ]
    },
    {
      "cell_type": "code",
      "source": [],
      "metadata": {
        "id": "dRAyAjmirz3p"
      },
      "execution_count": null,
      "outputs": []
    }
  ]
}